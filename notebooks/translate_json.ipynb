{
 "cells": [
  {
   "cell_type": "code",
   "execution_count": 181,
   "metadata": {},
   "outputs": [],
   "source": [
    "import os\n",
    "import sys\n",
    "import json\n",
    "import pandas as pd\n",
    "from lxml import etree\n",
    "from tqdm import tqdm"
   ]
  },
  {
   "cell_type": "code",
   "execution_count": 184,
   "metadata": {},
   "outputs": [
    {
     "data": {
      "text/plain": [
       "{'id': 'P_Ubr_uO2isWwO6FxeG7d',\n",
       " 'end': 339,\n",
       " 'code': '',\n",
       " 'name': 'гипергликемия - 12 ммоль/л',\n",
       " 'start': 313,\n",
       " 'xPath': '/ClinicalDocument/component/structuredBody/component[4]/section/text',\n",
       " 'decorCode': 'symptom'}"
      ]
     },
     "execution_count": 184,
     "metadata": {},
     "output_type": "execute_result"
    }
   ],
   "source": [
    "dataset = '../dataset/Эпикризы_финал_11_10_2023/'\n",
    "json_name = dataset + 'Эпикриз_211358327_v1_result.json'\n",
    "xml_name = dataset + 'Эпикриз_211358327_v1.xml'\n",
    "\n",
    "with open(json_name, 'r') as f:\n",
    "    test_labels = json.load(f)\n",
    "\n",
    "test_labels[0]"
   ]
  },
  {
   "cell_type": "code",
   "execution_count": 186,
   "metadata": {},
   "outputs": [
    {
     "name": "stdout",
     "output_type": "stream",
     "text": [
      "/*\n",
      "/*/comment()[1]\n",
      "/*/comment()[2]\n",
      "/*/comment()[3]\n",
      "/*/comment()[4]\n",
      "/*/comment()[5]\n",
      "/*/comment()[6]\n",
      "/*/*[1]\n",
      "/*/comment()[7]\n",
      "/*/*[2]\n",
      "/*/comment()[8]\n",
      "/*/comment()[9]\n",
      "/*/comment()[10]\n",
      "/*/*[3]\n",
      "/*/comment()[11]\n"
     ]
    }
   ],
   "source": [
    "tree = etree.parse(xml_name)\n",
    "root = tree.getroot()\n",
    "\n",
    "for i, e in enumerate(root.iter()):\n",
    "    if i == 15:\n",
    "        break\n",
    "    print(tree.getpath(e))"
   ]
  },
  {
   "cell_type": "code",
   "execution_count": 141,
   "metadata": {},
   "outputs": [],
   "source": [
    "def get_text(tree, symptom, start, end):\n",
    "    \"\"\"\n",
    "    Inputs:\n",
    "      tree: xml tree\n",
    "      symptom: text of symptom\n",
    "      start: start's pointer\n",
    "      end: end's pointer\n",
    "    Return\n",
    "      text: text with symptom\n",
    "    \"\"\"\n",
    "\n",
    "    nodes = tree.xpath(f'//*[contains(text(), \"{symptom}\")]')\n",
    "    if len(nodes) == 1:\n",
    "        return nodes[0].text\n",
    "    for node in nodes:\n",
    "        text = node.text.lstrip()\n",
    "        if len(text) < end:\n",
    "            continue\n",
    "        if text[start:end] == symptom:\n",
    "            return text\n",
    "    "
   ]
  },
  {
   "cell_type": "code",
   "execution_count": 153,
   "metadata": {},
   "outputs": [],
   "source": [
    "def proccess_json(json_name, xml_name):\n",
    "    \"\"\"\n",
    "    Return:\n",
    "    - result: single json dict for label studio\n",
    "    \"\"\"\n",
    "    tree = etree.parse(xml_name)\n",
    "    with open(json_name, 'r') as f:\n",
    "        labels = json.load(f)\n",
    "\n",
    "    result = {}\n",
    "    for label in labels:\n",
    "        symptom = label['name']\n",
    "        start = label['start']\n",
    "        end = label['end']\n",
    "        text = get_text(tree, symptom, start, end)\n",
    "        if text not in result.keys():\n",
    "            result[text] = {\n",
    "                \"annotations\": [{\"result\": []}],\n",
    "                \"data\": {\"text\": text}\n",
    "                }\n",
    "        annotation = {\n",
    "            \"value\": {\n",
    "                \"start\": start,\n",
    "                \"end\": end,\n",
    "                \"text\": symptom,\n",
    "                \"labels\": [\n",
    "                    \"Симптом\"\n",
    "                  ]\n",
    "            },\n",
    "            \"from_name\": \"label\",\n",
    "            \"to_name\": \"text\",\n",
    "            \"type\": \"labels\",\n",
    "            \"origin\": \"manual\"\n",
    "        }\n",
    "        result[text]['annotations'][0]['result'].append(annotation)\n",
    "    \n",
    "    return list(result.values())"
   ]
  },
  {
   "cell_type": "code",
   "execution_count": 175,
   "metadata": {},
   "outputs": [],
   "source": [
    "def proccess_dataset(dataset):\n",
    "    result = []\n",
    "    for path in tqdm(os.listdir(dataset)):\n",
    "        if path [-1] != 'l':\n",
    "            continue\n",
    "        xml_name = dataset + path\n",
    "        json_name = xml_name[:-4] + '_result.json'\n",
    "        result.extend(proccess_json(json_name, xml_name))\n",
    "    return result"
   ]
  },
  {
   "cell_type": "code",
   "execution_count": 176,
   "metadata": {},
   "outputs": [
    {
     "name": "stderr",
     "output_type": "stream",
     "text": [
      "100%|██████████| 196/196 [00:00<00:00, 204.74it/s]\n"
     ]
    }
   ],
   "source": [
    "result = proccess_dataset(dataset)"
   ]
  },
  {
   "cell_type": "code",
   "execution_count": 179,
   "metadata": {},
   "outputs": [],
   "source": [
    "with open('../dataset/final_labels.json', 'w+') as f:\n",
    "    json.dump(result, f, ensure_ascii=False)"
   ]
  }
 ],
 "metadata": {
  "kernelspec": {
   "display_name": "NER",
   "language": "python",
   "name": "python3"
  },
  "language_info": {
   "codemirror_mode": {
    "name": "ipython",
    "version": 3
   },
   "file_extension": ".py",
   "mimetype": "text/x-python",
   "name": "python",
   "nbconvert_exporter": "python",
   "pygments_lexer": "ipython3",
   "version": "3.10.13"
  }
 },
 "nbformat": 4,
 "nbformat_minor": 2
}
