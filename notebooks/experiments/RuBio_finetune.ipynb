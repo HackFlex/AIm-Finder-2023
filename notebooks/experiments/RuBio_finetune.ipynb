{
 "cells": [
  {
   "cell_type": "code",
   "execution_count": 1,
   "metadata": {},
   "outputs": [],
   "source": [
    "import os\n",
    "\n",
    "os.environ[\"CUDA_DEVICE_ORDER\"]=\"PCI_BUS_ID\"\n",
    "os.environ[\"CUDA_VISIBLE_DEVICES\"]=\"0\""
   ]
  },
  {
   "cell_type": "code",
   "execution_count": 2,
   "metadata": {},
   "outputs": [],
   "source": [
    "%load_ext autoreload\n",
    "%autoreload 2"
   ]
  },
  {
   "cell_type": "code",
   "execution_count": 3,
   "metadata": {},
   "outputs": [],
   "source": [
    "import sys\n",
    "sys.path.insert(1, '../../src')\n",
    "\n",
    "import torch\n",
    "import evaluate\n",
    "import mlflow\n",
    "import numpy as np\n",
    "\n",
    "from datasets import load_dataset, Dataset\n",
    "from transformers import (\n",
    "    AutoTokenizer,\n",
    "    AutoModelForTokenClassification,\n",
    "    TrainingArguments,\n",
    "    Trainer,\n",
    "    DataCollatorForTokenClassification\n",
    ")\n",
    "\n",
    "from TextProcessor import TextProcessor\n",
    "from update_dataset import update_dataset\n"
   ]
  },
  {
   "cell_type": "code",
   "execution_count": 4,
   "metadata": {},
   "outputs": [
    {
     "name": "stdout",
     "output_type": "stream",
     "text": [
      "Current tracking uri: http://mlflow:5000\n"
     ]
    }
   ],
   "source": [
    "mlflow.set_tracking_uri(\"http://mlflow:5000\")\n",
    "tracking_uri = mlflow.get_tracking_uri()\n",
    "print(\"Current tracking uri: {}\".format(tracking_uri))\n",
    "\n",
    "os.environ[\"MLFLOW_EXPERIMENT_NAME\"] = \"NER\"\n",
    "# os.environ[\"HF_MLFLOW_LOG_ARTIFACTS\"] = \"True\"\n",
    "\n",
    "# os.environ[\"MLFLOW_FLATTEN_PARAMS\"] = \"True\"\n",
    "\n",
    "# os.environ[\"MLFLOW_TRACKING_URI\"] = tracking_uri"
   ]
  },
  {
   "cell_type": "code",
   "execution_count": 5,
   "metadata": {},
   "outputs": [
    {
     "name": "stdout",
     "output_type": "stream",
     "text": [
      "Total raws: 1608\n"
     ]
    },
    {
     "data": {
      "text/plain": [
       "Dataset({\n",
       "    features: ['tokens', 'ner_tags'],\n",
       "    num_rows: 1608\n",
       "})"
      ]
     },
     "execution_count": 5,
     "metadata": {},
     "output_type": "execute_result"
    }
   ],
   "source": [
    "# raw_dataset = load_dataset(\"kosta-naumenko/medflex\", split='train', download_mode='force_redownload', verification_mode='no_checks')\n",
    "raw_dataset = update_dataset(False, True)\n",
    "raw_dataset"
   ]
  },
  {
   "cell_type": "code",
   "execution_count": 6,
   "metadata": {},
   "outputs": [],
   "source": [
    "model_name = \"alexyalunin/RuBioRoBERTa\"\n",
    "tokenizer = AutoTokenizer.from_pretrained(model_name, add_prefix_space=True)"
   ]
  },
  {
   "cell_type": "code",
   "execution_count": 7,
   "metadata": {},
   "outputs": [],
   "source": [
    "def align_labels_with_tokens(labels, word_ids):\n",
    "    new_labels = []\n",
    "    current_word = None\n",
    "    for word_id in word_ids:\n",
    "        if word_id != current_word:\n",
    "            # Start of a new word!\n",
    "            current_word = word_id\n",
    "            label = -100 if word_id is None else labels[word_id]\n",
    "            new_labels.append(label)\n",
    "        elif word_id is None:\n",
    "            # Special token\n",
    "            new_labels.append(-100)\n",
    "        else:\n",
    "            # Same word as previous token\n",
    "            label = labels[word_id]\n",
    "            # If the label is B-XXX we change it to I-XXX\n",
    "            if label % 2 == 1:\n",
    "                label += 1\n",
    "            new_labels.append(label)\n",
    "\n",
    "    return new_labels"
   ]
  },
  {
   "cell_type": "code",
   "execution_count": 8,
   "metadata": {},
   "outputs": [],
   "source": [
    "def tokenize_and_align_labels(examples):\n",
    "    tokenized_inputs = tokenizer(\n",
    "        examples[\"tokens\"], truncation=True, is_split_into_words=True, \n",
    "        max_length=512, padding=True\n",
    "    )\n",
    "    all_labels = examples[\"ner_tags\"]\n",
    "    new_labels = []\n",
    "    for i, labels in enumerate(all_labels):\n",
    "        word_ids = tokenized_inputs.word_ids(i)\n",
    "        new_labels.append(align_labels_with_tokens(labels, word_ids))\n",
    "\n",
    "    tokenized_inputs[\"labels\"] = new_labels\n",
    "    return tokenized_inputs"
   ]
  },
  {
   "cell_type": "code",
   "execution_count": 9,
   "metadata": {},
   "outputs": [
    {
     "data": {
      "application/vnd.jupyter.widget-view+json": {
       "model_id": "d3efdccb3e8b44a4b7310aeefed56b4f",
       "version_major": 2,
       "version_minor": 0
      },
      "text/plain": [
       "Map:   0%|          | 0/1608 [00:00<?, ? examples/s]"
      ]
     },
     "metadata": {},
     "output_type": "display_data"
    }
   ],
   "source": [
    "tokenized_dataset = raw_dataset.map(\n",
    "    tokenize_and_align_labels,\n",
    "    batched=True,\n",
    "    remove_columns=raw_dataset.column_names,\n",
    ")"
   ]
  },
  {
   "cell_type": "code",
   "execution_count": 10,
   "metadata": {},
   "outputs": [
    {
     "name": "stdout",
     "output_type": "stream",
     "text": [
      " \n",
      " состояние тяжелое \n",
      " Sat О 2 92% \n",
      " пастозность стоп. \n",
      " Sat О 2 92% \n",
      " притупление в правой нижней доле \n",
      " при аускультации - ослабленное дыхание, крепитация инспираторная в нижних отделах правого легкого \n",
      " ЧДД - 22 в мин \n",
      " Акцент II тона над Аортой \n",
      " Артериальное давление 110/70 мм. рт. ст."
     ]
    }
   ],
   "source": [
    "id = 4\n",
    "input_ids, attention_mask, labels = list(tokenized_dataset[id].values())\n",
    "for i in range(len(input_ids)):\n",
    "    if labels[i] > 0:\n",
    "        if labels[i] == 1:\n",
    "            print(\" \")\n",
    "        print(tokenizer.decode(input_ids[i]), end='')"
   ]
  },
  {
   "cell_type": "code",
   "execution_count": 32,
   "metadata": {},
   "outputs": [],
   "source": [
    "seqeval = evaluate.load(\"seqeval\")\n",
    "label_list = ['O', 'B', 'I']\n",
    "\n",
    "\n",
    "def find_symtoms(result):\n",
    "    text = result['text'].lower()\n",
    "    symptoms = result['symptoms']\n",
    "    for symptom in symptoms:\n",
    "        text = text[:symptom[0]] + text[symptom[0]:symptom[1]].upper() + text[symptom[1]:]\n",
    "    return text\n",
    "\n",
    "\n",
    "def compute_metrics(p):\n",
    "    global model, tokenizer, cur_texts, text_log_ids, processor\n",
    "    model.eval()\n",
    "    model.cpu()\n",
    "\n",
    "    predictions, labels = p\n",
    "    predictions = np.argmax(predictions, axis=2)\n",
    "\n",
    "    true_predictions = [\n",
    "        [label_list[p] for (p, l) in zip(prediction, label) if l != -100]\n",
    "        for prediction, label in zip(predictions, labels)\n",
    "    ]\n",
    "    true_labels = [\n",
    "        [label_list[l] for (p, l) in zip(prediction, label) if l != -100]\n",
    "        for prediction, label in zip(predictions, labels)\n",
    "    ]\n",
    "\n",
    "    results = seqeval.compute(predictions=true_predictions, references=true_labels)\n",
    "\n",
    "    for log_id in text_log_ids:\n",
    "\n",
    "        if len(cur_texts[log_id]) == 0:\n",
    "            result = processor.process_labeled_texts(\n",
    "                raw_dataset[log_id]['tokens'],\n",
    "                preds=torch.LongTensor([tokenized_dataset[log_id]['labels']]),\n",
    "                is_split=True\n",
    "                )\n",
    "            true_text = find_symtoms(result[0])\n",
    "            cur_texts[log_id].append(true_text)\n",
    "\n",
    "        result = processor.process_text(raw_dataset[log_id]['tokens'], model, is_split=True)\n",
    "        cur_text = find_symtoms(result)\n",
    "        cur_texts[log_id].append(cur_text)\n",
    "        mlflow.log_text('\\n'.join(cur_texts[log_id]), f'example_{log_id}.txt')\n",
    "\n",
    "    model.train()\n",
    "    model.to(torch.cuda.current_device())\n",
    "\n",
    "    return {\n",
    "        \"precision\": results[\"overall_precision\"],\n",
    "        \"recall\": results[\"overall_recall\"],\n",
    "        \"f1\": results[\"overall_f1\"],\n",
    "        \"accuracy\": results[\"overall_accuracy\"]\n",
    "    }"
   ]
  },
  {
   "cell_type": "code",
   "execution_count": 33,
   "metadata": {},
   "outputs": [],
   "source": [
    "id2label = {\n",
    "    0: \"O\",\n",
    "    1: \"B\",\n",
    "    2: \"I\",\n",
    "}\n",
    "label2id = {\n",
    "    \"O\": 0,\n",
    "    \"B\": 1,\n",
    "    \"I\": 2,\n",
    "}"
   ]
  },
  {
   "cell_type": "code",
   "execution_count": 34,
   "metadata": {},
   "outputs": [],
   "source": [
    "data_collator = DataCollatorForTokenClassification(tokenizer=tokenizer)\n",
    "eval_dataset = tokenized_dataset.train_test_split(test_size=0.1)['test']"
   ]
  },
  {
   "cell_type": "code",
   "execution_count": 35,
   "metadata": {},
   "outputs": [
    {
     "name": "stderr",
     "output_type": "stream",
     "text": [
      "Some weights of RobertaForTokenClassification were not initialized from the model checkpoint at alexyalunin/RuBioRoBERTa and are newly initialized: ['classifier.weight', 'classifier.bias']\n",
      "You should probably TRAIN this model on a down-stream task to be able to use it for predictions and inference.\n"
     ]
    }
   ],
   "source": [
    "model = AutoModelForTokenClassification.from_pretrained(\n",
    "    model_name,\n",
    "    device_map={'': torch.cuda.current_device()},\n",
    "    cache_dir='.cache',\n",
    "    num_labels=3,\n",
    "    id2label=id2label,\n",
    "    label2id=label2id\n",
    "    )\n",
    "\n",
    "for param in model.roberta.parameters():\n",
    "    param.requires_grad = False"
   ]
  },
  {
   "cell_type": "code",
   "execution_count": 36,
   "metadata": {},
   "outputs": [
    {
     "name": "stderr",
     "output_type": "stream",
     "text": [
      "/home/knaumenko/.conda/envs/NER/lib/python3.10/site-packages/transformers/optimization.py:411: FutureWarning: This implementation of AdamW is deprecated and will be removed in a future version. Use the PyTorch implementation torch.optim.AdamW instead, or set `no_deprecation_warning=True` to disable this warning\n",
      "  warnings.warn(\n"
     ]
    },
    {
     "data": {
      "text/html": [
       "\n",
       "    <div>\n",
       "      \n",
       "      <progress value='765' max='765' style='width:300px; height:20px; vertical-align: middle;'></progress>\n",
       "      [765/765 12:52, Epoch 15/15]\n",
       "    </div>\n",
       "    <table border=\"1\" class=\"dataframe\">\n",
       "  <thead>\n",
       " <tr style=\"text-align: left;\">\n",
       "      <th>Epoch</th>\n",
       "      <th>Training Loss</th>\n",
       "      <th>Validation Loss</th>\n",
       "      <th>Precision</th>\n",
       "      <th>Recall</th>\n",
       "      <th>F1</th>\n",
       "      <th>Accuracy</th>\n",
       "    </tr>\n",
       "  </thead>\n",
       "  <tbody>\n",
       "    <tr>\n",
       "      <td>1</td>\n",
       "      <td>0.558500</td>\n",
       "      <td>0.586290</td>\n",
       "      <td>0.003185</td>\n",
       "      <td>0.005059</td>\n",
       "      <td>0.003909</td>\n",
       "      <td>0.743196</td>\n",
       "    </tr>\n",
       "    <tr>\n",
       "      <td>2</td>\n",
       "      <td>0.535500</td>\n",
       "      <td>0.554895</td>\n",
       "      <td>0.015385</td>\n",
       "      <td>0.026981</td>\n",
       "      <td>0.019596</td>\n",
       "      <td>0.758505</td>\n",
       "    </tr>\n",
       "    <tr>\n",
       "      <td>3</td>\n",
       "      <td>0.517600</td>\n",
       "      <td>0.541742</td>\n",
       "      <td>0.028000</td>\n",
       "      <td>0.047218</td>\n",
       "      <td>0.035154</td>\n",
       "      <td>0.761439</td>\n",
       "    </tr>\n",
       "    <tr>\n",
       "      <td>4</td>\n",
       "      <td>0.475800</td>\n",
       "      <td>0.531387</td>\n",
       "      <td>0.025510</td>\n",
       "      <td>0.042159</td>\n",
       "      <td>0.031786</td>\n",
       "      <td>0.764628</td>\n",
       "    </tr>\n",
       "    <tr>\n",
       "      <td>5</td>\n",
       "      <td>0.508900</td>\n",
       "      <td>0.522120</td>\n",
       "      <td>0.032312</td>\n",
       "      <td>0.065767</td>\n",
       "      <td>0.043333</td>\n",
       "      <td>0.771177</td>\n",
       "    </tr>\n",
       "    <tr>\n",
       "      <td>6</td>\n",
       "      <td>0.494000</td>\n",
       "      <td>0.519107</td>\n",
       "      <td>0.035524</td>\n",
       "      <td>0.067454</td>\n",
       "      <td>0.046539</td>\n",
       "      <td>0.769689</td>\n",
       "    </tr>\n",
       "    <tr>\n",
       "      <td>7</td>\n",
       "      <td>0.578500</td>\n",
       "      <td>0.519185</td>\n",
       "      <td>0.037074</td>\n",
       "      <td>0.062395</td>\n",
       "      <td>0.046512</td>\n",
       "      <td>0.768881</td>\n",
       "    </tr>\n",
       "    <tr>\n",
       "      <td>8</td>\n",
       "      <td>0.575000</td>\n",
       "      <td>0.517468</td>\n",
       "      <td>0.038382</td>\n",
       "      <td>0.062395</td>\n",
       "      <td>0.047527</td>\n",
       "      <td>0.769476</td>\n",
       "    </tr>\n",
       "    <tr>\n",
       "      <td>9</td>\n",
       "      <td>0.554000</td>\n",
       "      <td>0.516973</td>\n",
       "      <td>0.037696</td>\n",
       "      <td>0.060708</td>\n",
       "      <td>0.046512</td>\n",
       "      <td>0.769051</td>\n",
       "    </tr>\n",
       "    <tr>\n",
       "      <td>10</td>\n",
       "      <td>0.492200</td>\n",
       "      <td>0.508128</td>\n",
       "      <td>0.038367</td>\n",
       "      <td>0.079258</td>\n",
       "      <td>0.051705</td>\n",
       "      <td>0.775132</td>\n",
       "    </tr>\n",
       "    <tr>\n",
       "      <td>11</td>\n",
       "      <td>0.547100</td>\n",
       "      <td>0.506848</td>\n",
       "      <td>0.038898</td>\n",
       "      <td>0.080944</td>\n",
       "      <td>0.052545</td>\n",
       "      <td>0.775302</td>\n",
       "    </tr>\n",
       "    <tr>\n",
       "      <td>12</td>\n",
       "      <td>0.743600</td>\n",
       "      <td>0.510298</td>\n",
       "      <td>0.039437</td>\n",
       "      <td>0.070826</td>\n",
       "      <td>0.050663</td>\n",
       "      <td>0.772921</td>\n",
       "    </tr>\n",
       "    <tr>\n",
       "      <td>13</td>\n",
       "      <td>0.499500</td>\n",
       "      <td>0.507292</td>\n",
       "      <td>0.038462</td>\n",
       "      <td>0.072513</td>\n",
       "      <td>0.050263</td>\n",
       "      <td>0.774622</td>\n",
       "    </tr>\n",
       "    <tr>\n",
       "      <td>14</td>\n",
       "      <td>0.576900</td>\n",
       "      <td>0.507898</td>\n",
       "      <td>0.039091</td>\n",
       "      <td>0.072513</td>\n",
       "      <td>0.050797</td>\n",
       "      <td>0.773856</td>\n",
       "    </tr>\n",
       "    <tr>\n",
       "      <td>15</td>\n",
       "      <td>0.619900</td>\n",
       "      <td>0.506410</td>\n",
       "      <td>0.039096</td>\n",
       "      <td>0.075885</td>\n",
       "      <td>0.051606</td>\n",
       "      <td>0.774324</td>\n",
       "    </tr>\n",
       "  </tbody>\n",
       "</table><p>"
      ],
      "text/plain": [
       "<IPython.core.display.HTML object>"
      ]
     },
     "metadata": {},
     "output_type": "display_data"
    }
   ],
   "source": [
    "text_log_ids = [0, 1, 2, 3, 4, 5]\n",
    "cur_texts = [[] for _ in text_log_ids]\n",
    "processor = TextProcessor()\n",
    "\n",
    "cur_run_id = 6\n",
    "num_train_epochs = 15\n",
    "\n",
    "name = \"RuBioRoBERTa-finetune-head\"\n",
    "run_name = f'{name}-{cur_run_id:02}'\n",
    "output_dir = f'./logs/{run_name}'\n",
    "\n",
    "training_args = TrainingArguments(\n",
    "    output_dir=output_dir,\n",
    "    logging_dir='./logs',\n",
    "    evaluation_strategy=\"epoch\",\n",
    "    learning_rate=5e-4,\n",
    "    per_device_train_batch_size=32,\n",
    "    per_device_eval_batch_size=32,\n",
    "    num_train_epochs=num_train_epochs,\n",
    "    weight_decay=0.01,\n",
    "    logging_strategy='steps',\n",
    "    logging_steps=1,\n",
    "    save_strategy='epoch',\n",
    "    load_best_model_at_end=True,\n",
    "    report_to=\"mlflow\",\n",
    "    run_name=run_name\n",
    ")\n",
    "\n",
    "trainer = Trainer(\n",
    "    model=model,\n",
    "    args=training_args,\n",
    "    train_dataset=tokenized_dataset,\n",
    "    eval_dataset=eval_dataset,\n",
    "    tokenizer=tokenizer,\n",
    "    data_collator=data_collator,\n",
    "    compute_metrics=compute_metrics,\n",
    ")\n",
    "\n",
    "trainer.train()\n",
    "mlflow.end_run()"
   ]
  },
  {
   "cell_type": "code",
   "execution_count": 41,
   "metadata": {},
   "outputs": [
    {
     "name": "stdout",
     "output_type": "stream",
     "text": [
      "1533\n",
      "1\n"
     ]
    }
   ],
   "source": [
    "i = 0\n",
    "for row in raw_dataset:\n",
    "    tokenized_row = tokenizer(row['tokens'], truncation=True, is_split_into_words=True,return_tensors='pt')\n",
    "    tokens = tokenized_row['input_ids']\n",
    "    if tokens.shape[1] > 512:\n",
    "\n",
    "        i += 1\n",
    "        print(tokens.shape[1])\n",
    "        break\n",
    "print(i)"
   ]
  },
  {
   "cell_type": "code",
   "execution_count": 82,
   "metadata": {},
   "outputs": [
    {
     "data": {
      "text/plain": [
       "tensor([   1, 1088,  338,  ..., 4011,   18,    2])"
      ]
     },
     "execution_count": 82,
     "metadata": {},
     "output_type": "execute_result"
    }
   ],
   "source": []
  },
  {
   "cell_type": "code",
   "execution_count": 84,
   "metadata": {},
   "outputs": [
    {
     "data": {
      "text/plain": [
       "' Анамнез жизни 7 лет назад установлен диагноз Аутоиммунный тиреоидит, по поводу которого получает Эутирокс 75 мг 1 раз в день.Особенности развития отсутствуют. Наследственность не отягощена. Профессиональные вредности: отсутствуют. Вредные привычки: не курит. Аллергологический анамнез: лекарственную аллергию отрицает. Эпид. анамнез: тифы, малярию, гепатит, венерические заболевания отрицает. Наличие тесных контактов за последние 14 дней с лицами, находящимися под наблюдением по COVID 19 отрицает. Наличие тесных контактов за последние 14 дней с лицами, которые заболели COVID - 19: отрицает. Наличие тесных контактов за последние 14 дней с лицами, у которых лабораторно подтвержден диагноз COVID - 19: отрицает. ОИМ, ОНМК, СД, онкологические заболевания - отрицает. Анамнез заболевания С 1997 г. был установлен диагноз Бронхиальная астма средней степени тяжести инфекционно-аллергического генеза. До 2003 г. перидически возникали обострения, требующие лечения в стационарных условиях. В 2003г. пациентка начала получать терапию Серетидом с положительным эффектом. Ухедшение состояния возникло в 2013 г., когда появилась одышка при физической нагрузке, кашель с трудноотделяемой мокротой. При исследовании мокроты был выявлен рост Candida albicans, принимала флуконазол. По данным МСКТ ОГК признаки бронхита. С февраля 2015 г. начала получать пульмикорт, однако улучшение состояния не отметила. Госпитализирована в УКБ№3 в апреле 2015 г. Был поставлен диагноз: Бронхиальная астма, средней степени тяжести, инфекционно-аллергиечского генеза. Интерстициальная болезнь легких : респираторный бронхиолит. В августе 2015 г. развился приступ удушья, была госпитализирована повторно. По данным МСКТ ОГК: Выраженные признаки хронического бронхита, бронхиолита (отрицательная динамика). Фиброзные изменения в легких. В октябре 2015 г. госпитализирована повторно. Был назначен метипред 4 мг в день с отменой в декабре в связи с сохраняющейся обструкцией. МСКТ ОГК от ноября 2015 г : в верхней доле правого легкого выраженный фиброз. В марте 2016 г. отметила повышени температуры и ухудшение состояния. В мокроте был выявлен рост H. influenza. Проведена антибактериальная терапия с положительным эффектом. К терапии (Фостер) был добавлен монтелукаст. Ухудшение - с конца мая 2016г., когда наросла одышка и появилась мокроты зеленого цвета. Увеличена доза монтелукаста, фостера, доавблен дексазон - с положительным эффектом. БПГ от 21.07.2016 г.: выраженная обструкция, DLCO 63%. МСКТ ОГК от августа 2016 г.: нарастание интерстициальных изменений в верхней доле справа. Впервые был выставлен диагноз гиперчувствительный пневмонит на основании картины МСКТ ОГК. После ухудшения в марте 2017 г. к терапии был доавлен рофлумиласт. Последующая госпитализация в октябре 2017 г. МСКТ ОГК - без динамики. Терапия продолжена: пульмикорт, беродуал, фостер. Последняя госпитализация в УКБ№3 в октябре 2019г. ФВД: ОФВ1- 35,2%, ФЖЕЛ - 58,1%. Терапия скорректирована: сибри 50 мкг 1 вдох вечером релвар элипта 22+184 мкг 1 вдох утром, Монтелукаст 10 мг вечером. Следующее обострение в октябре 2021 года, когда отметила повышение температуры тела до 38,5*С, появился сухой кашель, редко с отхождением слизистой мокроты. Была консультирована пульмонологом, назначен курс метипреда в максимальной дозировке 10 таб. в день, состояние с положительной динамикой в виде нормализации температуры. Проводились курсы антибиотикотерапии (амоксиклав, зиннет, цефтриаксон) с положительной динамикой.Продолжена ингаляционная терапия (Релвар эллипта, Спирива Респимат). ФВД от 07.12.2021:ОФВ1 - 54,1% (после - 59,3%), DLCO - 78%, ЖЕЛ в пределах возрастной нормы (100,4%), увеличение ФОЕЛ (143%), ООЛ (163%). 07.02.22 Диагностическая ФБС: Сужение до точечных размеров просветов верхне и среднедолевого бронхов справа, деформация нижнедолеваого бронха, КУМ и ДНК МБТ не обнаружены. Культивированы S. intermedius, S.bovis 1*10^5, чувствительные к рифампицину, цефазолину, эритромицину. 22.03.22 В связи с диагнозом Бронхиальной астмы, эозинофильного типа, с выраженной обструкцией, частыми обострениями было принято решение о назначении таргентой терапии Бенрализумабом. Получила 2 дозы: 06.04.22 и 06.05.22 с положительным эффектом в виде уменьшения приступов удушья, уменьшения потребности в дополнительных ингаляциях, снижение выраженности одышки. Однако сохраняются эпизоды повышения температуры до 38,5*С, купирующиеся приемом НПВС. Последний подъем температуры - 17.05.22. С 20.05.22 принимает Таваник 500 мг 2 раза в день с положительным эффектом. МСКТ ОГК от 20.05.22: КТ-картина двустороннего полисегментарногго воспалительного процесса с формированием фиброателектаза верхней доли справа с множественными полостями распада. Отрицательная динамика в сравнении с МСКТ ОГК от 04.05.22 за счет нарастания воспалительных изменений с обеих сторон, вормирования абсцедирующих полостей в верхней доле справа. По данным МСКТ ОБП: Гепатомегалия хронический холецистит. Киста правой почки, конркемент правой почки. Была госпитализирована с 23.05.22 по 06.06.22 с диагнозом: Двусторонняя полисегментарная пневмония. Ателектаз 3 сегмента правого легкого.. Проведено лечение : Моксифлоксацин 400 мг 1 раз в день Клексан 0,4 мл 2 раз в день п/к 25.05.22-26.05.22, Клексан 0,4 мл 1 раз в день п/к 27.05.22-01.06.22 с положительной динамикой в виде нормализации температуры, улучшения КТ-картины. Ухудшение состояния в течение 5 последних дней, когда повысилась температура тела до 38*С, наросла общая слабость. Обратилась в КДО. Госпитализирована в отделение пульмонологии.'"
      ]
     },
     "execution_count": 84,
     "metadata": {},
     "output_type": "execute_result"
    }
   ],
   "source": [
    "tokenizer.decode(tokenized_row['input_ids'][0], skip_special_tokens=True)"
   ]
  },
  {
   "cell_type": "code",
   "execution_count": 74,
   "metadata": {},
   "outputs": [
    {
     "name": "stdout",
     "output_type": "stream",
     "text": [
      "0\n",
      "1\n",
      "2\n"
     ]
    }
   ],
   "source": []
  },
  {
   "cell_type": "code",
   "execution_count": 76,
   "metadata": {},
   "outputs": [
    {
     "data": {
      "text/plain": [
       "1533"
      ]
     },
     "execution_count": 76,
     "metadata": {},
     "output_type": "execute_result"
    }
   ],
   "source": [
    "len(preds_full)"
   ]
  },
  {
   "cell_type": "code",
   "execution_count": 70,
   "metadata": {},
   "outputs": [
    {
     "data": {
      "text/plain": [
       "torch.Size([1, 509])"
      ]
     },
     "execution_count": 70,
     "metadata": {},
     "output_type": "execute_result"
    }
   ],
   "source": [
    "text_batch[2]['input_ids'].shape"
   ]
  },
  {
   "cell_type": "code",
   "execution_count": 65,
   "metadata": {},
   "outputs": [],
   "source": [
    "model.cpu()\n",
    "model.eval();"
   ]
  },
  {
   "cell_type": "code",
   "execution_count": 69,
   "metadata": {},
   "outputs": [
    {
     "data": {
      "text/plain": [
       "torch.Size([1, 509])"
      ]
     },
     "execution_count": 69,
     "metadata": {},
     "output_type": "execute_result"
    }
   ],
   "source": [
    "model(**text_batch[2]).logits.argmax(axis=2).shape"
   ]
  },
  {
   "cell_type": "code",
   "execution_count": null,
   "metadata": {},
   "outputs": [],
   "source": [
    "path_to_model = f'../../models/{run_name}.pt'\n",
    "torch.save(model, path_to_model)"
   ]
  },
  {
   "cell_type": "code",
   "execution_count": 45,
   "metadata": {},
   "outputs": [],
   "source": [
    "model2 = torch.load('../../models/rubio_frozen.pt')"
   ]
  },
  {
   "cell_type": "code",
   "execution_count": 46,
   "metadata": {},
   "outputs": [
    {
     "data": {
      "text/plain": [
       "{'precision': 0.0017035775127768314,\n",
       " 'recall': 0.003173164097914778,\n",
       " 'f1': 0.002216943784639747,\n",
       " 'accuracy': 0.7840474930935167}"
      ]
     },
     "execution_count": 46,
     "metadata": {},
     "output_type": "execute_result"
    }
   ],
   "source": [
    "input_ids = torch.LongTensor(tokenized_dataset['input_ids']).to(model.device)\n",
    "attention_mask = torch.LongTensor(tokenized_dataset['attention_mask']).to(model.device)\n",
    "\n",
    "preds = model2(input_ids=input_ids, attention_mask=attention_mask)\n",
    "p = [preds['logits'].detach().cpu(), tokenized_dataset['labels']]\n",
    "compute_metrics(p)"
   ]
  },
  {
   "cell_type": "code",
   "execution_count": 26,
   "metadata": {},
   "outputs": [
    {
     "data": {
      "text/plain": [
       "{'precision': 0.013938594838952722,\n",
       " 'recall': 0.033544877606527655,\n",
       " 'f1': 0.019693945442448436,\n",
       " 'accuracy': 0.8131428907306177}"
      ]
     },
     "execution_count": 26,
     "metadata": {},
     "output_type": "execute_result"
    }
   ],
   "source": [
    "input_ids = torch.LongTensor(tokenized_dataset['input_ids']).to(model.device)\n",
    "attention_mask = torch.LongTensor(tokenized_dataset['attention_mask']).to(model.device)\n",
    "\n",
    "preds = model(input_ids=input_ids, attention_mask=attention_mask)\n",
    "p = [preds['logits'].detach().cpu(), tokenized_dataset['labels']]\n",
    "compute_metrics(p)"
   ]
  },
  {
   "cell_type": "code",
   "execution_count": 33,
   "metadata": {},
   "outputs": [],
   "source": [
    "logits = preds.logits.argmax(axis=2).detach().cpu()"
   ]
  },
  {
   "cell_type": "code",
   "execution_count": 38,
   "metadata": {},
   "outputs": [
    {
     "data": {
      "text/plain": [
       "tensor(2697)"
      ]
     },
     "execution_count": 38,
     "metadata": {},
     "output_type": "execute_result"
    }
   ],
   "source": [
    "(logits == 1).sum()"
   ]
  }
 ],
 "metadata": {
  "kernelspec": {
   "display_name": "ML",
   "language": "python",
   "name": "python3"
  },
  "language_info": {
   "codemirror_mode": {
    "name": "ipython",
    "version": 3
   },
   "file_extension": ".py",
   "mimetype": "text/x-python",
   "name": "python",
   "nbconvert_exporter": "python",
   "pygments_lexer": "ipython3",
   "version": "3.10.13"
  }
 },
 "nbformat": 4,
 "nbformat_minor": 2
}
